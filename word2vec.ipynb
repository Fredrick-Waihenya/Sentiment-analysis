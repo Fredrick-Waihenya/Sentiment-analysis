{
 "cells": [
  {
   "cell_type": "code",
   "execution_count": null,
   "metadata": {},
   "outputs": [],
   "source": [
    "import pandas as pd\n",
    "import nltk\n",
    "import pandas as pd\n",
    "import nltk\n",
    "from nltk.tokenize import word_tokenize\n",
    "from gensim.models import Word2Vec\n",
    "\n",
    "\n",
    "nltk.download('punkt')"
   ]
  },
  {
   "cell_type": "code",
   "execution_count": null,
   "metadata": {},
   "outputs": [],
   "source": [
    "df = pd.read_csv('/content/clean_tweets.csv')\n",
    "df.columns\n",
    "\n",
    "train_df = df.sample(frac=0.8, random_state=0)\n",
    "test_df = df.drop(train_df.index)\n"
   ]
  },
  {
   "cell_type": "code",
   "execution_count": null,
   "metadata": {},
   "outputs": [],
   "source": [
    "#tokenize the text \n",
    "train_tokens = train_df['clean_text'].apply(word_tokenize)\n",
    "test_tokens = test_df['clean_text'].apply(word_tokenize)"
   ]
  },
  {
   "cell_type": "code",
   "execution_count": null,
   "metadata": {},
   "outputs": [],
   "source": [
    "# Train word2vec model on the tokenized tweets\n",
    "train_model = Word2Vec(train_tokens.tolist(), size=32, window=5, min_count=1, workers=4 ,batch_words=3000)\n",
    "test_model = Word2Vec(test_tokens.tolist(), size=32, window=5, min_count=1, workers=4 ,batch_words=3000)"
   ]
  },
  {
   "cell_type": "code",
   "execution_count": null,
   "metadata": {},
   "outputs": [],
   "source": [
    "# Get word embeddings\n",
    "train_word_vectors = train_model.wv\n",
    "test_word_vectors = test_model.wv\n",
    "\n",
    "# Save the embeddings\n",
    "train_word_vectors.save(\"train_word_vectors.kv\")\n",
    "test_word_vectors.save(\"test_word_vectors.kv\")"
   ]
  }
 ],
 "metadata": {
  "kernelspec": {
   "display_name": "aikit-modin",
   "language": "python",
   "name": "python3"
  },
  "language_info": {
   "codemirror_mode": {
    "name": "ipython",
    "version": 3
   },
   "file_extension": ".py",
   "mimetype": "text/x-python",
   "name": "python",
   "nbconvert_exporter": "python",
   "pygments_lexer": "ipython3",
   "version": "3.7.12"
  },
  "orig_nbformat": 4,
  "vscode": {
   "interpreter": {
    "hash": "ea654ef359b8a9888fb504fe8f800ce58efb09b47ae8570608885035d2d4d366"
   }
  }
 },
 "nbformat": 4,
 "nbformat_minor": 2
}
