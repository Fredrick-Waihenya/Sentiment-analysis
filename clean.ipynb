{
 "cells": [
  {
   "attachments": {},
   "cell_type": "markdown",
   "metadata": {},
   "source": [
    "### Preprocessing Tweets with Neattext Pipeline\n",
    " After you have collected your tweets from twitter, next step would be removing the noise from the tweets. "
   ]
  },
  {
   "cell_type": "code",
   "execution_count": 1,
   "metadata": {},
   "outputs": [],
   "source": [
    "#Hide warnings\n",
    "import warnings\n",
    "warnings.filterwarnings('ignore')\n",
    "\n",
    "#import pandas\n",
    "import pandas as pd \n",
    "\n",
    "# importing neattext\n",
    "from neattext.pipeline import TextPipeline\n",
    "from neattext.functions import  remove_emails, fix_contractions, remove_numbers,remove_emojis,remove_special_characters, remove_stopwords, remove_html_tags, remove_urls, remove_puncts,remove_custom_pattern"
   ]
  },
  {
   "cell_type": "code",
   "execution_count": 13,
   "metadata": {},
   "outputs": [
    {
     "data": {
      "text/html": [
       "<div>\n",
       "<style scoped>\n",
       "    .dataframe tbody tr th:only-of-type {\n",
       "        vertical-align: middle;\n",
       "    }\n",
       "\n",
       "    .dataframe tbody tr th {\n",
       "        vertical-align: top;\n",
       "    }\n",
       "\n",
       "    .dataframe thead th {\n",
       "        text-align: right;\n",
       "    }\n",
       "</style>\n",
       "<table border=\"1\" class=\"dataframe\">\n",
       "  <thead>\n",
       "    <tr style=\"text-align: right;\">\n",
       "      <th></th>\n",
       "      <th>user_name</th>\n",
       "      <th>user_location</th>\n",
       "      <th>user_description</th>\n",
       "      <th>user_created</th>\n",
       "      <th>user_followers</th>\n",
       "      <th>user_friends</th>\n",
       "      <th>user_favourites</th>\n",
       "      <th>user_verified</th>\n",
       "      <th>date</th>\n",
       "      <th>text</th>\n",
       "      <th>hashtags</th>\n",
       "      <th>source</th>\n",
       "      <th>is_retweet</th>\n",
       "    </tr>\n",
       "  </thead>\n",
       "  <tbody>\n",
       "    <tr>\n",
       "      <th>0</th>\n",
       "      <td>Wilfred Muiruri</td>\n",
       "      <td>NaN</td>\n",
       "      <td>NaN</td>\n",
       "      <td>2022-10-29 01:07:45+00:00</td>\n",
       "      <td>4</td>\n",
       "      <td>13</td>\n",
       "      <td>1</td>\n",
       "      <td>False</td>\n",
       "      <td>2023-01-24 20:20:36+00:00</td>\n",
       "      <td>@Safaricom_Care my sim card doesn't have signal</td>\n",
       "      <td>NaN</td>\n",
       "      <td>Twitter for Android</td>\n",
       "      <td>False</td>\n",
       "    </tr>\n",
       "    <tr>\n",
       "      <th>1</th>\n",
       "      <td>Safaricom Care</td>\n",
       "      <td>Nairobi, Kenya</td>\n",
       "      <td>Always delighted to assist you 24hrs, 7 days a...</td>\n",
       "      <td>2011-06-20 09:20:08+00:00</td>\n",
       "      <td>1543308</td>\n",
       "      <td>144601</td>\n",
       "      <td>960</td>\n",
       "      <td>True</td>\n",
       "      <td>2023-01-24 20:19:26+00:00</td>\n",
       "      <td>@Ov3rwatch Hi Heisenberg. We are sorry to hear...</td>\n",
       "      <td>NaN</td>\n",
       "      <td>Genesys Social Engagement.</td>\n",
       "      <td>False</td>\n",
       "    </tr>\n",
       "    <tr>\n",
       "      <th>2</th>\n",
       "      <td>Heisenberg</td>\n",
       "      <td>Nairobi, Kenya</td>\n",
       "      <td>Manchester United || Scuderia Ferrari || Photo...</td>\n",
       "      <td>2020-07-05 06:27:19+00:00</td>\n",
       "      <td>87</td>\n",
       "      <td>844</td>\n",
       "      <td>202</td>\n",
       "      <td>False</td>\n",
       "      <td>2023-01-24 20:17:40+00:00</td>\n",
       "      <td>Hi @Safaricom_Care I’ve made an M-PESA payment...</td>\n",
       "      <td>NaN</td>\n",
       "      <td>Twitter for iPhone</td>\n",
       "      <td>False</td>\n",
       "    </tr>\n",
       "    <tr>\n",
       "      <th>3</th>\n",
       "      <td>Dave</td>\n",
       "      <td>NaN</td>\n",
       "      <td>NaN</td>\n",
       "      <td>2022-02-14 15:37:40+00:00</td>\n",
       "      <td>172</td>\n",
       "      <td>250</td>\n",
       "      <td>1067</td>\n",
       "      <td>False</td>\n",
       "      <td>2023-01-24 19:59:12+00:00</td>\n",
       "      <td>@safaricom_WIT No phone numbers this time??</td>\n",
       "      <td>NaN</td>\n",
       "      <td>Twitter for Android</td>\n",
       "      <td>False</td>\n",
       "    </tr>\n",
       "    <tr>\n",
       "      <th>4</th>\n",
       "      <td>DNK (Part time Zinjathropus, part time Einstein)</td>\n",
       "      <td>Nairobi, Kenya</td>\n",
       "      <td>A Kenyan, but foremost a Human Being....Tweets...</td>\n",
       "      <td>2015-01-13 14:31:08+00:00</td>\n",
       "      <td>213</td>\n",
       "      <td>274</td>\n",
       "      <td>2826</td>\n",
       "      <td>False</td>\n",
       "      <td>2023-01-24 19:54:15+00:00</td>\n",
       "      <td>@MutemiWaKiama @Safaricom_Care @SafaricomPLC W...</td>\n",
       "      <td>NaN</td>\n",
       "      <td>Twitter for Android</td>\n",
       "      <td>False</td>\n",
       "    </tr>\n",
       "  </tbody>\n",
       "</table>\n",
       "</div>"
      ],
      "text/plain": [
       "                                          user_name   user_location  \\\n",
       "0                                   Wilfred Muiruri             NaN   \n",
       "1                                    Safaricom Care  Nairobi, Kenya   \n",
       "2                                        Heisenberg  Nairobi, Kenya   \n",
       "3                                              Dave             NaN   \n",
       "4  DNK (Part time Zinjathropus, part time Einstein)  Nairobi, Kenya   \n",
       "\n",
       "                                    user_description  \\\n",
       "0                                                NaN   \n",
       "1  Always delighted to assist you 24hrs, 7 days a...   \n",
       "2  Manchester United || Scuderia Ferrari || Photo...   \n",
       "3                                                NaN   \n",
       "4  A Kenyan, but foremost a Human Being....Tweets...   \n",
       "\n",
       "                user_created  user_followers  user_friends  user_favourites  \\\n",
       "0  2022-10-29 01:07:45+00:00               4            13                1   \n",
       "1  2011-06-20 09:20:08+00:00         1543308        144601              960   \n",
       "2  2020-07-05 06:27:19+00:00              87           844              202   \n",
       "3  2022-02-14 15:37:40+00:00             172           250             1067   \n",
       "4  2015-01-13 14:31:08+00:00             213           274             2826   \n",
       "\n",
       "   user_verified                       date  \\\n",
       "0          False  2023-01-24 20:20:36+00:00   \n",
       "1           True  2023-01-24 20:19:26+00:00   \n",
       "2          False  2023-01-24 20:17:40+00:00   \n",
       "3          False  2023-01-24 19:59:12+00:00   \n",
       "4          False  2023-01-24 19:54:15+00:00   \n",
       "\n",
       "                                                text hashtags  \\\n",
       "0    @Safaricom_Care my sim card doesn't have signal      NaN   \n",
       "1  @Ov3rwatch Hi Heisenberg. We are sorry to hear...      NaN   \n",
       "2  Hi @Safaricom_Care I’ve made an M-PESA payment...      NaN   \n",
       "3        @safaricom_WIT No phone numbers this time??      NaN   \n",
       "4  @MutemiWaKiama @Safaricom_Care @SafaricomPLC W...      NaN   \n",
       "\n",
       "                       source  is_retweet  \n",
       "0         Twitter for Android       False  \n",
       "1  Genesys Social Engagement.       False  \n",
       "2          Twitter for iPhone       False  \n",
       "3         Twitter for Android       False  \n",
       "4         Twitter for Android       False  "
      ]
     },
     "execution_count": 13,
     "metadata": {},
     "output_type": "execute_result"
    }
   ],
   "source": [
    "#Load the dataset\n",
    "df = pd.read_csv('tweets.csv')\n",
    "\n",
    "df.head()"
   ]
  },
  {
   "attachments": {},
   "cell_type": "markdown",
   "metadata": {},
   "source": [
    "I will use functions to call the neattext functions just to make it easier."
   ]
  },
  {
   "cell_type": "code",
   "execution_count": null,
   "metadata": {},
   "outputs": [],
   "source": []
  },
  {
   "cell_type": "code",
   "execution_count": 11,
   "metadata": {},
   "outputs": [],
   "source": [
    "# Remove urls,emoji,email and fix contractions\n",
    "def remove_specific_patterns(text, pattern):\n",
    "    return remove_custom_pattern(text, pattern)\n",
    "def clean_1(text):\n",
    "    clean_1 = TextPipeline(steps = [fix_contractions, remove_emails,remove_emojis, remove_html_tags, remove_urls])\n",
    "    return clean_1.fit(text)\n",
    "\n",
    "\n",
    "#This function calls the previous functions\n",
    "def finish_cleaning(text, pattern):\n",
    "    tweets = remove_specific_patterns(text, pattern)\n",
    "    nearly_clean_text = clean_1(tweets)\n",
    "    clean_2 = TextPipeline(steps=[remove_numbers,remove_special_characters, remove_puncts])\n",
    "    return clean_2.fit(nearly_clean_text)"
   ]
  },
  {
   "cell_type": "code",
   "execution_count": 14,
   "metadata": {},
   "outputs": [
    {
     "data": {
      "text/plain": [
       "0                        my sim card does not have signal\n",
       "1         hi heisenberg we are sorry to hear this dm t...\n",
       "2       hi   ive made an mpesa payment to the wrong ti...\n",
       "3                              no phone numbers this time\n",
       "4                                   why are u ignoring uk\n",
       "                              ...                        \n",
       "5522      hi kariuki sorry for that experience dial   ...\n",
       "5523      hi kariuki sorry for that experience dial   ...\n",
       "5524      hi kariuki sorry for that experience dial   ...\n",
       "5525      hi kariuki sorry for that experience dial   ...\n",
       "5526      hi kariuki sorry for that experience dial   ...\n",
       "Name: clean_text, Length: 5527, dtype: object"
      ]
     },
     "execution_count": 14,
     "metadata": {},
     "output_type": "execute_result"
    }
   ],
   "source": [
    "df[\"clean_text\"] = df['text'].apply(lambda x: finish_cleaning(x, r'@\\w+|#\\w+|Re-pinging'))\n",
    "df[\"clean_text\"] "
   ]
  }
 ],
 "metadata": {
  "kernelspec": {
   "display_name": "Python 3",
   "language": "python",
   "name": "python3"
  },
  "language_info": {
   "codemirror_mode": {
    "name": "ipython",
    "version": 3
   },
   "file_extension": ".py",
   "mimetype": "text/x-python",
   "name": "python",
   "nbconvert_exporter": "python",
   "pygments_lexer": "ipython3",
   "version": "3.10.4"
  },
  "orig_nbformat": 4,
  "vscode": {
   "interpreter": {
    "hash": "e7370f93d1d0cde622a1f8e1c04877d8463912d04d973331ad4851f04de6915a"
   }
  }
 },
 "nbformat": 4,
 "nbformat_minor": 2
}
